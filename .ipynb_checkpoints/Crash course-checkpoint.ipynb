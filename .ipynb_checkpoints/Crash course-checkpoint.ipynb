{
 "cells": [
  {
   "cell_type": "markdown",
   "id": "09191320",
   "metadata": {},
   "source": [
    "# ARRAYS"
   ]
  },
  {
   "cell_type": "code",
   "execution_count": 160,
   "id": "713de262",
   "metadata": {},
   "outputs": [],
   "source": [
    "from collections import Counter\n",
    "def solution(a):\n",
    "    cont = Counter(a)\n",
    "    if len(a) == len(set(a)):\n",
    "        return -1\n",
    "    else: \n",
    "        return a[min([[i for i, x in enumerate(a) if x == list(cont.keys())[idx]][1] for idx in [i for i in range(len(cont)) if list(cont.values())[i] >1]])]"
   ]
  },
  {
   "cell_type": "code",
   "execution_count": 161,
   "id": "684122e7",
   "metadata": {},
   "outputs": [
    {
     "data": {
      "text/plain": [
       "9600"
      ]
     },
     "execution_count": 161,
     "metadata": {},
     "output_type": "execute_result"
    }
   ],
   "source": [
    "solution([2362, 348, 3966, 231, 715, 24, 8112, 9600, 9600,5412, 310, 2962, 5396, 8626, 9116, 1013, 8654, 6144, 1253, 3674, 635, 8952, 7538, 4969, 3298, 9311, 7494, 1181, 6786, 8633, 3755, 2973, 4378, 8250, 5229, 7483, 3853, 3669, 8439, 5674, 791, 4681, 4429, 2102, 6901, 9966, 5483, 7197, 9992, 42, 7253, 5283, 7518, 2469, 4342, 1252, 3083, 3089, 7015, 8957, 4475, 2964, 8628, 5831, 4902, 2947, 5909, 6905, 6518, 4254, 3239, 9871, 6456, 102, 9631, 7545, 50, 2346, 2239, 2596, 2829, 742, 7587, 9415, 2169, 137, 7399, 7450, 7480, 756, 3419, 1462, 6693, 3989, 5147, 8496, 8009, 5413, 57, 4703, 5281])"
   ]
  },
  {
   "cell_type": "code",
   "execution_count": 154,
   "id": "0ad09d4f",
   "metadata": {},
   "outputs": [],
   "source": [
    "def get_second_cooccurance(idx):\n",
    "    return [i for i, x in enumerate(a) if x == list(cont.keys())[idx]][1] "
   ]
  },
  {
   "cell_type": "code",
   "execution_count": 155,
   "id": "bf816ebc",
   "metadata": {},
   "outputs": [
    {
     "data": {
      "text/plain": [
       "22"
      ]
     },
     "execution_count": 155,
     "metadata": {},
     "output_type": "execute_result"
    }
   ],
   "source": [
    "get_second_cooccurance(9)"
   ]
  },
  {
   "cell_type": "code",
   "execution_count": 159,
   "id": "5c85b9bf",
   "metadata": {},
   "outputs": [
    {
     "data": {
      "text/plain": [
       "9600"
      ]
     },
     "execution_count": 159,
     "metadata": {},
     "output_type": "execute_result"
    }
   ],
   "source": [
    "a = [2362, 348, 3966, 231, 715, 24, 8112, 9600, 9600,5412, 310, 2962, 5396, 8626, 9116, 1013, 8654, 6144, 1253, 3674, 635, 8952, 7538, 4969, 3298, 9311, 7494, 1181, 6786, 8633, 3755, 2973, 4378, 8250, 5229, 7483, 3853, 3669, 8439, 5674, 791, 4681, 4429, 2102, 6901, 9966, 5483, 7197, 9992, 42, 7253, 5283, 7518, 2469, 4342, 1252, 3083, 3089, 7015, 8957, 4475, 2964, 8628, 5831, 4902, 2947, 5909, 6905, 6518, 4254, 3239, 9871, 6456, 102, 9631, 7545, 50, 2346, 2239, 2596, 2829, 742, 7587, 9415, 2169, 137, 7399, 7450, 7480, 756, 3419, 1462, 6693, 3989, 5147, 8496, 8009, 5413, 57, 4703, 5281]\n",
    "\n",
    "cont = Counter(a)\n",
    "a[min([[i for i, x in enumerate(a) if x == list(cont.keys())[idx]][1] for idx in [i for i in range(len(cont)) if list(cont.values())[i] >1]])]"
   ]
  },
  {
   "cell_type": "markdown",
   "id": "3a7f053e",
   "metadata": {},
   "source": [
    "### firstNotRepeatingCharacter\n"
   ]
  },
  {
   "cell_type": "code",
   "execution_count": 44,
   "id": "48132128",
   "metadata": {},
   "outputs": [],
   "source": [
    "from collections import Counter\n",
    "import numpy as np\n",
    "\n",
    "def solution(s):\n",
    "    if 1 not in list(Counter(s).values()):\n",
    "        return \"_\"\n",
    "    else:\n",
    "        return list(Counter(s).keys())[min([i for i in range(len(Counter(s))) if list(Counter(s).values())[i] == 1])]\n",
    "    "
   ]
  },
  {
   "cell_type": "code",
   "execution_count": 45,
   "id": "b8af5982",
   "metadata": {},
   "outputs": [
    {
     "data": {
      "text/plain": [
       "'c'"
      ]
     },
     "execution_count": 45,
     "metadata": {},
     "output_type": "execute_result"
    }
   ],
   "source": [
    "solution(\"abacabad\")"
   ]
  },
  {
   "cell_type": "markdown",
   "id": "0b82795c",
   "metadata": {},
   "source": [
    "### rotateImage"
   ]
  },
  {
   "cell_type": "code",
   "execution_count": 76,
   "id": "1d26fba1",
   "metadata": {},
   "outputs": [
    {
     "data": {
      "text/plain": [
       "array([[7, 4, 1],\n",
       "       [8, 5, 2],\n",
       "       [9, 6, 3]])"
      ]
     },
     "execution_count": 76,
     "metadata": {},
     "output_type": "execute_result"
    }
   ],
   "source": [
    "def solution(a):\n",
    "    return np.rot90(np.array(a),3)\n",
    "\n",
    "a = [[1, 2, 3],\n",
    "     [4, 5, 6],\n",
    "     [7, 8, 9]]\n",
    "solution(a)"
   ]
  },
  {
   "cell_type": "markdown",
   "id": "de3f9ba2",
   "metadata": {},
   "source": [
    "### sudoku2\n"
   ]
  },
  {
   "cell_type": "code",
   "execution_count": 292,
   "id": "6c16fbc3",
   "metadata": {},
   "outputs": [],
   "source": [
    "def solution(grid):\n",
    "    for i in range(int(np.array(grid).shape[0]/3)):\n",
    "        for j in range(int(np.array(grid).shape[0]/3)):\n",
    "            if [i for i in list(Counter(np.array(grid)[parts[i][0]:parts[i][1], parts[j][0]:parts[j][1]][np.array(grid)[parts[i][0]:parts[i][1], parts[j][0]:parts[j][1]] != \".\"]).values()) if i > 1] != []:\n",
    "                return False\n",
    "    for i in range(np.array(grid).shape[0] ):   \n",
    "        if [i for i in list(Counter(np.array(grid)[:,i][np.array(grid)[:,i] != \".\"]).values()) if i > 1] != []:\n",
    "                return False\n",
    "        elif [i for i in list(Counter(np.array(grid)[i][np.array(grid)[i] != \".\"]).values()) if i > 1] != []:\n",
    "                return False\n",
    "    else:\n",
    "        return True\n"
   ]
  },
  {
   "cell_type": "code",
   "execution_count": 302,
   "id": "73d98631",
   "metadata": {},
   "outputs": [
    {
     "data": {
      "text/plain": [
       "False"
      ]
     },
     "execution_count": 302,
     "metadata": {},
     "output_type": "execute_result"
    }
   ],
   "source": [
    "grid = [['.', '.', '.', '.', '2', '.', '.', '9', '.'],\n",
    "        ['.', '.', '.', '.', '6', '.', '.', '.', '.'],\n",
    "        ['7', '1', '.', '.', '7', '5', '.', '.', '.'],\n",
    "        ['.', '7', '.', '.', '.', '.', '.', '.', '.'],\n",
    "        ['.', '.', '.', '.', '8', '3', '.', '.', '.'],\n",
    "        ['.', '.', '8', '.', '.', '7', '.', '6', '.'],\n",
    "        ['.', '.', '.', '.', '.', '2', '.', '.', '.'],\n",
    "        ['.', '1', '.', '2', '.', '.', '.', '.', '.'],\n",
    "        ['.', '2', '.', '.', '3', '.', '.', '.', '.']]\n",
    "\n",
    "solution(grid)"
   ]
  },
  {
   "cell_type": "markdown",
   "id": "d9c10cc2",
   "metadata": {},
   "source": [
    "### isCryptSolution\n"
   ]
  },
  {
   "cell_type": "code",
   "execution_count": 383,
   "id": "a894fdc8",
   "metadata": {},
   "outputs": [],
   "source": [
    "crypt = [\"SEND\", \"MORE\", \"MONEY\"]\n",
    "solution = [['O', '0'],\n",
    "            ['M', '1'],\n",
    "            ['Y', '2'],\n",
    "            ['E', '5'],\n",
    "            ['N', '6'],\n",
    "            ['D', '7'],\n",
    "            ['R', '8'],\n",
    "            ['S', '9']]"
   ]
  },
  {
   "cell_type": "code",
   "execution_count": 384,
   "id": "0f65dc07",
   "metadata": {},
   "outputs": [],
   "source": [
    "def solution_def(crypt, solution):\n",
    "    solution = np.array(solution)\n",
    "    decoded = []\n",
    "    for word in crypt:\n",
    "        for i in range(solution.shape[0]):\n",
    "            word = word.replace(solution[i][0], solution[i][1])\n",
    "        decoded.append(word)\n",
    "    return int(decoded[0]) + int(decoded[1]) == int(decoded[2]) and len(decoded[0]) == len(str(int(decoded[0]))) and len(decoded[1]) == len(str(int(decoded[1]))) and  len(decoded[2]) == len(str(int(decoded[2])))\n"
   ]
  },
  {
   "cell_type": "code",
   "execution_count": 385,
   "id": "57b51a3a",
   "metadata": {},
   "outputs": [
    {
     "data": {
      "text/plain": [
       "True"
      ]
     },
     "execution_count": 385,
     "metadata": {},
     "output_type": "execute_result"
    }
   ],
   "source": [
    "solution_def(crypt, solution)"
   ]
  },
  {
   "cell_type": "markdown",
   "id": "fe3c8e48",
   "metadata": {},
   "source": [
    "# Linked Lists"
   ]
  },
  {
   "cell_type": "markdown",
   "id": "664cd30f",
   "metadata": {},
   "source": [
    "### removeKFromList"
   ]
  },
  {
   "cell_type": "code",
   "execution_count": 22,
   "id": "f95f3fa7",
   "metadata": {},
   "outputs": [],
   "source": [
    "# Singly-linked lists are already defined with this interface:\n",
    "#class ListNode(object):\n",
    " #  def __init__(self, x):\n",
    "  #   self.value = x\n",
    "   #  self.next = None\n",
    "    \n",
    "def solution(l, k):\n",
    "    head = ListNode(None)\n",
    "    head.next = l\n",
    "    current = head\n",
    "    \n",
    "    while current:\n",
    "        while (current.next) and (current.next.value ==k):\n",
    "            current.next = current.next.next\n",
    "        current = current.next\n",
    "   \n",
    "    return head.next\n",
    "    "
   ]
  },
  {
   "cell_type": "markdown",
   "id": "2da66f96",
   "metadata": {},
   "source": [
    "### isListPalindrome"
   ]
  },
  {
   "cell_type": "code",
   "execution_count": 102,
   "id": "bda19441",
   "metadata": {},
   "outputs": [],
   "source": [
    "# Singly-linked lists are already defined with this interface:\n",
    "# class ListNode(object):\n",
    "#   def __init__(self, x):\n",
    "#     self.value = x\n",
    "#     self.next = None\n",
    "#\n",
    "def solution(l):\n",
    "    \n",
    "    if l is None:\n",
    "        return True\n",
    "    fast=l\n",
    "    slow=l\n",
    "    while fast.next!=None:\n",
    "        #list have even number of elements\n",
    "        if fast.next.next ==None:\n",
    "            fast=fast.next\n",
    "        #list have even number of elements\n",
    "        else:\n",
    "            fast=fast.next.next\n",
    "            slow=slow.next\n",
    "    #Reverse a linked list starting from slow node\n",
    "    prev=slow\n",
    "    cur=slow.next\n",
    "    while cur is not None:\n",
    "        next=cur.next\n",
    "        cur.next=prev\n",
    "        prev=cur\n",
    "        cur=next\n",
    "    head=l\n",
    "    #testing if the left side is equal to the right side\n",
    "    if head.value != fast.value:\n",
    "        return False\n",
    "    while head is not slow:\n",
    "        if head.next.value != fast.next.value:\n",
    "            return False\n",
    "        head=head.next\n",
    "        fast=fast.next\n",
    "\n",
    "    return True"
   ]
  },
  {
   "cell_type": "markdown",
   "id": "1e617acb",
   "metadata": {},
   "source": [
    "# addTwoHugeNumbers"
   ]
  },
  {
   "cell_type": "code",
   "execution_count": null,
   "id": "ea8ff750",
   "metadata": {},
   "outputs": [],
   "source": [
    "# Singly-linked lists are already defined with this interface:\n",
    "# class ListNode(object):\n",
    "#   def __init__(self, x):\n",
    "#     self.value = x\n",
    "#     self.next = None\n",
    "#\n",
    "import math\n",
    "def solution(a, b):\n",
    "    a_list = []\n",
    "    b_list = []\n",
    "    first, second = a , b \n",
    "    \n",
    "    while first:\n",
    "        a_list.append(first.value)\n",
    "        first = first.next\n",
    "        \n",
    "    while second:\n",
    "        b_list.append(second.value)\n",
    "        second = second.next\n",
    "    \n",
    "    combined = str(int(\"\".join([str(i).rjust(4, '0') for i in a_list])) + int(\"\".join([str(i).rjust(4, '0') for i in b_list])))\n",
    "\n",
    "    solution = []\n",
    "    for l in range(math.ceil(len(combined)/4)):\n",
    "        if l == 0:\n",
    "            solution.append(int(combined[-((l+1)*4):]))\n",
    "        else:\n",
    "            solution.append(int(combined[-((l+1)*4): -(l*4)]))\n",
    "\n",
    "\n",
    "    return solution[::-1]\n"
   ]
  },
  {
   "cell_type": "markdown",
   "id": "d5f62aee",
   "metadata": {},
   "source": [
    "# mergeTwoLinkedLists"
   ]
  },
  {
   "cell_type": "code",
   "execution_count": 112,
   "id": "58c25b92",
   "metadata": {},
   "outputs": [],
   "source": [
    "# Singly-linked lists are already defined with this interface:\n",
    "# class ListNode(object):\n",
    "#   def __init__(self, x):\n",
    "#     self.value = x\n",
    "#     self.next = None\n",
    "#\n",
    "def solution(l1, l2):\n",
    "\n",
    "    first = l1\n",
    "    second = l2\n",
    "\n",
    "    l1_list = []\n",
    "    l2_list = []\n",
    "\n",
    "\n",
    "    while first:\n",
    "        l1_list.append(first.value)\n",
    "        first = first.next\n",
    "\n",
    "\n",
    "    while second:\n",
    "        l2_list.append(second.value)\n",
    "        second = second.next\n",
    "        \n",
    "    combined = l1_list + l2_list\n",
    "    combined.sort()\n",
    "\n",
    "    return combined"
   ]
  },
  {
   "cell_type": "markdown",
   "id": "dc265493",
   "metadata": {},
   "source": [
    "# reverseNodesInKGroups"
   ]
  },
  {
   "cell_type": "code",
   "execution_count": 113,
   "id": "0953ce00",
   "metadata": {},
   "outputs": [],
   "source": [
    "# Singly-linked lists are already defined with this interface:\n",
    "# class ListNode(object):\n",
    "#   def __init__(self, x):\n",
    "#     self.value = x\n",
    "#     self.next = None\n",
    "#\n",
    "\n",
    "def getKthnode(curr, k):\n",
    "    while curr and k>0:\n",
    "        curr = curr.next\n",
    "        k -= 1\n",
    "    return curr\n",
    "    \n",
    "    \n",
    "def solution(l, k):\n",
    "    dummy = ListNode(None)\n",
    "    dummy.next = l\n",
    "    \n",
    "    GroupPrev = dummy\n",
    "    \n",
    "    #finding \n",
    "    while True:\n",
    "        kth_node = getKthnode(GroupPrev, k)\n",
    "        if not kth_node:\n",
    "            break\n",
    "        GroupNextNode = kth_node.next\n",
    "    \n",
    "        #reversing \n",
    "        prev, curr = kth_node.next, GroupPrev.next\n",
    "        \n",
    "        while curr != GroupNextNode:\n",
    "            tmp = curr.next\n",
    "            curr.next = prev\n",
    "            prev = curr\n",
    "            curr = tmp\n",
    "        \n",
    "        tmp = GroupPrev.next\n",
    "        GroupPrev.next = kth_node\n",
    "        GroupPrev = tmp\n",
    "    \n",
    "    return dummy.next"
   ]
  },
  {
   "cell_type": "code",
   "execution_count": null,
   "id": "cb4acd64",
   "metadata": {},
   "outputs": [],
   "source": []
  },
  {
   "cell_type": "code",
   "execution_count": 119,
   "id": "ae794a4d",
   "metadata": {},
   "outputs": [
    {
     "data": {
      "text/plain": [
       "7"
      ]
     },
     "execution_count": 119,
     "metadata": {},
     "output_type": "execute_result"
    }
   ],
   "source": [
    "last_node = 7\n",
    "n = 1\n",
    "last_node - n + 1"
   ]
  },
  {
   "cell_type": "markdown",
   "id": "52849e11",
   "metadata": {},
   "source": [
    "# Hash Tables"
   ]
  },
  {
   "cell_type": "markdown",
   "id": "e5738249",
   "metadata": {},
   "source": [
    "### groupingDishes\n"
   ]
  },
  {
   "cell_type": "code",
   "execution_count": 54,
   "id": "76e2c6b8",
   "metadata": {},
   "outputs": [],
   "source": [
    "def solution(dishes):\n",
    "    dic = {}\n",
    "\n",
    "    for dish in dishes:\n",
    "        dish_name = dish[0]\n",
    "\n",
    "        for ingredient in dish[1:]:\n",
    "                if ingredient not in dic:\n",
    "                    dic[ingredient] = [dish_name]\n",
    "                else:\n",
    "                    dic[ingredient] += [dish_name]\n",
    "\n",
    "    output = []\n",
    "    for i in sorted(dic):\n",
    "        if len(sorted(dic[i])) >1:\n",
    "            ingredients = sorted(dic[i])\n",
    "            ingredients.insert(0,i)\n",
    "            output.append(ingredients)\n",
    "    return output"
   ]
  },
  {
   "cell_type": "code",
   "execution_count": 56,
   "id": "682bc1ee",
   "metadata": {},
   "outputs": [
    {
     "data": {
      "text/plain": [
       "[['Cheese', 'Quesadilla', 'Sandwich'],\n",
       " ['Chicken', 'Chicken Curry', 'Quesadilla'],\n",
       " ['Nuts', 'Fried Rice', 'Salad'],\n",
       " ['Onions', 'Fried Rice', 'Pasta']]"
      ]
     },
     "execution_count": 56,
     "metadata": {},
     "output_type": "execute_result"
    }
   ],
   "source": [
    "solution( [[\"Pasta\", \"Tomato Sauce\", \"Onions\", \"Garlic\"],\n",
    "            [\"Chicken Curry\", \"Chicken\", \"Curry Sauce\"],\n",
    "            [\"Fried Rice\", \"Rice\", \"Onions\", \"Nuts\"],\n",
    "            [\"Salad\", \"Spinach\", \"Nuts\"],\n",
    "            [\"Sandwich\", \"Cheese\", \"Bread\"],\n",
    "            [\"Quesadilla\", \"Chicken\", \"Cheese\"]])"
   ]
  },
  {
   "cell_type": "markdown",
   "id": "61aa7858",
   "metadata": {},
   "source": [
    "### containsCloseNums"
   ]
  },
  {
   "cell_type": "code",
   "execution_count": 71,
   "id": "21bd3bf9",
   "metadata": {},
   "outputs": [],
   "source": [
    "def solution(strings, patterns):\n",
    "    i = 0\n",
    "    if len(strings) != len(patterns):\n",
    "        return False\n",
    "    dic = {}\n",
    "    for i in range(len(strings)):\n",
    "        if patterns[i] not in dic:\n",
    "            if strings[i] not in dic.values():\n",
    "                dic[patterns[i]] = strings[i]\n",
    "            else:\n",
    "                return False\n",
    "        else:\n",
    "            if dic[patterns[i]] != strings[i]:\n",
    "                return False\n",
    "    return True    "
   ]
  },
  {
   "cell_type": "code",
   "execution_count": 72,
   "id": "3c0f2b8a",
   "metadata": {},
   "outputs": [
    {
     "data": {
      "text/plain": [
       "True"
      ]
     },
     "execution_count": 72,
     "metadata": {},
     "output_type": "execute_result"
    }
   ],
   "source": [
    "solution(strings, patterns)"
   ]
  },
  {
   "cell_type": "code",
   "execution_count": null,
   "id": "23de6741",
   "metadata": {},
   "outputs": [],
   "source": []
  }
 ],
 "metadata": {
  "kernelspec": {
   "display_name": "Python 3 (ipykernel)",
   "language": "python",
   "name": "python3"
  },
  "language_info": {
   "codemirror_mode": {
    "name": "ipython",
    "version": 3
   },
   "file_extension": ".py",
   "mimetype": "text/x-python",
   "name": "python",
   "nbconvert_exporter": "python",
   "pygments_lexer": "ipython3",
   "version": "3.9.10"
  }
 },
 "nbformat": 4,
 "nbformat_minor": 5
}
