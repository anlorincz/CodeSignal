{
 "cells": [
  {
   "cell_type": "markdown",
   "id": "c767ac33",
   "metadata": {},
   "source": [
    "## 2. CenturyFromYear"
   ]
  },
  {
   "cell_type": "code",
   "execution_count": 13,
   "id": "e361584f",
   "metadata": {},
   "outputs": [],
   "source": [
    "def solution(year):\n",
    "    padded_year = str(year).zfill(4)\n",
    "    if int(padded_year[2:]) == 0:\n",
    "        return int(padded_year[:2])\n",
    "    else:\n",
    "        return int(padded_year[:2]) + 1"
   ]
  },
  {
   "cell_type": "code",
   "execution_count": 14,
   "id": "a94177e1",
   "metadata": {},
   "outputs": [
    {
     "data": {
      "text/plain": [
       "2"
      ]
     },
     "execution_count": 14,
     "metadata": {},
     "output_type": "execute_result"
    }
   ],
   "source": [
    "solution(200)"
   ]
  },
  {
   "cell_type": "markdown",
   "id": "19add0c7",
   "metadata": {},
   "source": [
    "## 3. Palindrome"
   ]
  },
  {
   "cell_type": "code",
   "execution_count": 11,
   "id": "5b730a5b",
   "metadata": {},
   "outputs": [],
   "source": [
    "def solution(inputString):\n",
    "    return inputString == inputString[::-1]"
   ]
  },
  {
   "cell_type": "code",
   "execution_count": 12,
   "id": "22202a10",
   "metadata": {},
   "outputs": [
    {
     "data": {
      "text/plain": [
       "False"
      ]
     },
     "execution_count": 12,
     "metadata": {},
     "output_type": "execute_result"
    }
   ],
   "source": [
    "solution(\"aababa\")"
   ]
  },
  {
   "cell_type": "markdown",
   "id": "971d8895",
   "metadata": {},
   "source": [
    "## 4. AdjacentElementsProduct\n"
   ]
  },
  {
   "cell_type": "code",
   "execution_count": 9,
   "id": "8b7a017c",
   "metadata": {},
   "outputs": [],
   "source": [
    "import numpy as np\n",
    "def solution(inputArray):\n",
    "    return max([np.prod(li) for li in [inputArray[i:i+2] for i in range(len(inputArray)-1)]])"
   ]
  },
  {
   "cell_type": "code",
   "execution_count": 10,
   "id": "8592aa4d",
   "metadata": {},
   "outputs": [
    {
     "data": {
      "text/plain": [
       "21"
      ]
     },
     "execution_count": 10,
     "metadata": {},
     "output_type": "execute_result"
    }
   ],
   "source": [
    "solution([3, 6, -2, -5, 7, 3])"
   ]
  },
  {
   "cell_type": "markdown",
   "id": "bb6d8747",
   "metadata": {},
   "source": [
    "## 5.ShapeArea"
   ]
  },
  {
   "cell_type": "code",
   "execution_count": 3,
   "id": "cc05660f",
   "metadata": {},
   "outputs": [],
   "source": [
    "def solution(n):\n",
    "    return n*n + (n-1)*(n-1)"
   ]
  },
  {
   "cell_type": "code",
   "execution_count": 8,
   "id": "fba89ead",
   "metadata": {},
   "outputs": [
    {
     "data": {
      "text/plain": [
       "25"
      ]
     },
     "execution_count": 8,
     "metadata": {},
     "output_type": "execute_result"
    }
   ],
   "source": [
    "solution(4)"
   ]
  },
  {
   "cell_type": "markdown",
   "id": "3ef39c2c",
   "metadata": {},
   "source": [
    "## 6. Make Array Consecutive 2"
   ]
  },
  {
   "cell_type": "code",
   "execution_count": 28,
   "id": "bedcb48f",
   "metadata": {},
   "outputs": [],
   "source": [
    "def solution(statues):\n",
    "    return len(set(list(range(min(statues), max(statues)+1))) - set(statues))"
   ]
  },
  {
   "cell_type": "code",
   "execution_count": 30,
   "id": "e9704fda",
   "metadata": {},
   "outputs": [
    {
     "data": {
      "text/plain": [
       "3"
      ]
     },
     "execution_count": 30,
     "metadata": {},
     "output_type": "execute_result"
    }
   ],
   "source": [
    "solution([6, 2, 3, 8])"
   ]
  },
  {
   "cell_type": "markdown",
   "id": "d81ff1d0",
   "metadata": {},
   "source": [
    "## 7. almostIncreasingSequence"
   ]
  },
  {
   "cell_type": "code",
   "execution_count": 262,
   "id": "8d413455",
   "metadata": {},
   "outputs": [
    {
     "name": "stdout",
     "output_type": "stream",
     "text": [
      "CPU times: user 5 µs, sys: 1 µs, total: 6 µs\n",
      "Wall time: 9.06 µs\n"
     ]
    }
   ],
   "source": [
    "%%time\n",
    "def solution(sequence):\n",
    "        sequence\n",
    "        new_sequences =  np.unique(np.array([(sequence[:i] + sequence[i+1:]) for i in range(len(sequence))] + [sequence]))\n",
    "        for new_sequence in new_sequences:\n",
    "            if all(new_sequence[i] < new_sequence[i+1] for i in range(len(new_sequence) - 1)):\n",
    "                return True\n",
    "            \n",
    "        else:\n",
    "            return False"
   ]
  },
  {
   "cell_type": "code",
   "execution_count": 1,
   "id": "70335ac2",
   "metadata": {},
   "outputs": [],
   "source": [
    "def solution(sequence):\n",
    "        return True in [(True not in (np.diff(x) <=0) ) for x in np.unique(np.array([(sequence[:i] + sequence[i+1:]) for i in range(len(sequence))] + [sequence]))]                "
   ]
  },
  {
   "cell_type": "code",
   "execution_count": null,
   "id": "20b50fee",
   "metadata": {},
   "outputs": [],
   "source": []
  }
 ],
 "metadata": {
  "kernelspec": {
   "display_name": "Python 3 (ipykernel)",
   "language": "python",
   "name": "python3"
  },
  "language_info": {
   "codemirror_mode": {
    "name": "ipython",
    "version": 3
   },
   "file_extension": ".py",
   "mimetype": "text/x-python",
   "name": "python",
   "nbconvert_exporter": "python",
   "pygments_lexer": "ipython3",
   "version": "3.9.10"
  }
 },
 "nbformat": 4,
 "nbformat_minor": 5
}
