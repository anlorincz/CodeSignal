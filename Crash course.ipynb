{
 "cells": [
  {
   "cell_type": "code",
   "execution_count": 160,
   "id": "713de262",
   "metadata": {},
   "outputs": [],
   "source": [
    "from collections import Counter\n",
    "def solution(a):\n",
    "    cont = Counter(a)\n",
    "    if len(a) == len(set(a)):\n",
    "        return -1\n",
    "    else: \n",
    "        return a[min([[i for i, x in enumerate(a) if x == list(cont.keys())[idx]][1] for idx in [i for i in range(len(cont)) if list(cont.values())[i] >1]])]"
   ]
  },
  {
   "cell_type": "code",
   "execution_count": 161,
   "id": "684122e7",
   "metadata": {},
   "outputs": [
    {
     "data": {
      "text/plain": [
       "9600"
      ]
     },
     "execution_count": 161,
     "metadata": {},
     "output_type": "execute_result"
    }
   ],
   "source": [
    "solution([2362, 348, 3966, 231, 715, 24, 8112, 9600, 9600,5412, 310, 2962, 5396, 8626, 9116, 1013, 8654, 6144, 1253, 3674, 635, 8952, 7538, 4969, 3298, 9311, 7494, 1181, 6786, 8633, 3755, 2973, 4378, 8250, 5229, 7483, 3853, 3669, 8439, 5674, 791, 4681, 4429, 2102, 6901, 9966, 5483, 7197, 9992, 42, 7253, 5283, 7518, 2469, 4342, 1252, 3083, 3089, 7015, 8957, 4475, 2964, 8628, 5831, 4902, 2947, 5909, 6905, 6518, 4254, 3239, 9871, 6456, 102, 9631, 7545, 50, 2346, 2239, 2596, 2829, 742, 7587, 9415, 2169, 137, 7399, 7450, 7480, 756, 3419, 1462, 6693, 3989, 5147, 8496, 8009, 5413, 57, 4703, 5281])"
   ]
  },
  {
   "cell_type": "code",
   "execution_count": 154,
   "id": "0ad09d4f",
   "metadata": {},
   "outputs": [],
   "source": [
    "def get_second_cooccurance(idx):\n",
    "    return [i for i, x in enumerate(a) if x == list(cont.keys())[idx]][1] "
   ]
  },
  {
   "cell_type": "code",
   "execution_count": 155,
   "id": "bf816ebc",
   "metadata": {},
   "outputs": [
    {
     "data": {
      "text/plain": [
       "22"
      ]
     },
     "execution_count": 155,
     "metadata": {},
     "output_type": "execute_result"
    }
   ],
   "source": [
    "get_second_cooccurance(9)"
   ]
  },
  {
   "cell_type": "code",
   "execution_count": 159,
   "id": "5c85b9bf",
   "metadata": {},
   "outputs": [
    {
     "data": {
      "text/plain": [
       "9600"
      ]
     },
     "execution_count": 159,
     "metadata": {},
     "output_type": "execute_result"
    }
   ],
   "source": [
    "a = [2362, 348, 3966, 231, 715, 24, 8112, 9600, 9600,5412, 310, 2962, 5396, 8626, 9116, 1013, 8654, 6144, 1253, 3674, 635, 8952, 7538, 4969, 3298, 9311, 7494, 1181, 6786, 8633, 3755, 2973, 4378, 8250, 5229, 7483, 3853, 3669, 8439, 5674, 791, 4681, 4429, 2102, 6901, 9966, 5483, 7197, 9992, 42, 7253, 5283, 7518, 2469, 4342, 1252, 3083, 3089, 7015, 8957, 4475, 2964, 8628, 5831, 4902, 2947, 5909, 6905, 6518, 4254, 3239, 9871, 6456, 102, 9631, 7545, 50, 2346, 2239, 2596, 2829, 742, 7587, 9415, 2169, 137, 7399, 7450, 7480, 756, 3419, 1462, 6693, 3989, 5147, 8496, 8009, 5413, 57, 4703, 5281]\n",
    "\n",
    "cont = Counter(a)\n",
    "a[min([[i for i, x in enumerate(a) if x == list(cont.keys())[idx]][1] for idx in [i for i in range(len(cont)) if list(cont.values())[i] >1]])]"
   ]
  },
  {
   "cell_type": "code",
   "execution_count": null,
   "id": "9491cac5",
   "metadata": {},
   "outputs": [],
   "source": []
  }
 ],
 "metadata": {
  "kernelspec": {
   "display_name": "Python 3 (ipykernel)",
   "language": "python",
   "name": "python3"
  },
  "language_info": {
   "codemirror_mode": {
    "name": "ipython",
    "version": 3
   },
   "file_extension": ".py",
   "mimetype": "text/x-python",
   "name": "python",
   "nbconvert_exporter": "python",
   "pygments_lexer": "ipython3",
   "version": "3.9.10"
  }
 },
 "nbformat": 4,
 "nbformat_minor": 5
}
