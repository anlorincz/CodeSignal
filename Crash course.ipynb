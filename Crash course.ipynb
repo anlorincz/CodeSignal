{
 "cells": [
  {
   "cell_type": "markdown",
   "id": "09191320",
   "metadata": {},
   "source": [
    "# ARRAYS"
   ]
  },
  {
   "cell_type": "code",
   "execution_count": 160,
   "id": "713de262",
   "metadata": {},
   "outputs": [],
   "source": [
    "from collections import Counter\n",
    "def solution(a):\n",
    "    cont = Counter(a)\n",
    "    if len(a) == len(set(a)):\n",
    "        return -1\n",
    "    else: \n",
    "        return a[min([[i for i, x in enumerate(a) if x == list(cont.keys())[idx]][1] for idx in [i for i in range(len(cont)) if list(cont.values())[i] >1]])]"
   ]
  },
  {
   "cell_type": "code",
   "execution_count": 161,
   "id": "684122e7",
   "metadata": {},
   "outputs": [
    {
     "data": {
      "text/plain": [
       "9600"
      ]
     },
     "execution_count": 161,
     "metadata": {},
     "output_type": "execute_result"
    }
   ],
   "source": [
    "solution([2362, 348, 3966, 231, 715, 24, 8112, 9600, 9600,5412, 310, 2962, 5396, 8626, 9116, 1013, 8654, 6144, 1253, 3674, 635, 8952, 7538, 4969, 3298, 9311, 7494, 1181, 6786, 8633, 3755, 2973, 4378, 8250, 5229, 7483, 3853, 3669, 8439, 5674, 791, 4681, 4429, 2102, 6901, 9966, 5483, 7197, 9992, 42, 7253, 5283, 7518, 2469, 4342, 1252, 3083, 3089, 7015, 8957, 4475, 2964, 8628, 5831, 4902, 2947, 5909, 6905, 6518, 4254, 3239, 9871, 6456, 102, 9631, 7545, 50, 2346, 2239, 2596, 2829, 742, 7587, 9415, 2169, 137, 7399, 7450, 7480, 756, 3419, 1462, 6693, 3989, 5147, 8496, 8009, 5413, 57, 4703, 5281])"
   ]
  },
  {
   "cell_type": "code",
   "execution_count": 154,
   "id": "0ad09d4f",
   "metadata": {},
   "outputs": [],
   "source": [
    "def get_second_cooccurance(idx):\n",
    "    return [i for i, x in enumerate(a) if x == list(cont.keys())[idx]][1] "
   ]
  },
  {
   "cell_type": "code",
   "execution_count": 155,
   "id": "bf816ebc",
   "metadata": {},
   "outputs": [
    {
     "data": {
      "text/plain": [
       "22"
      ]
     },
     "execution_count": 155,
     "metadata": {},
     "output_type": "execute_result"
    }
   ],
   "source": [
    "get_second_cooccurance(9)"
   ]
  },
  {
   "cell_type": "code",
   "execution_count": 159,
   "id": "5c85b9bf",
   "metadata": {},
   "outputs": [
    {
     "data": {
      "text/plain": [
       "9600"
      ]
     },
     "execution_count": 159,
     "metadata": {},
     "output_type": "execute_result"
    }
   ],
   "source": [
    "a = [2362, 348, 3966, 231, 715, 24, 8112, 9600, 9600,5412, 310, 2962, 5396, 8626, 9116, 1013, 8654, 6144, 1253, 3674, 635, 8952, 7538, 4969, 3298, 9311, 7494, 1181, 6786, 8633, 3755, 2973, 4378, 8250, 5229, 7483, 3853, 3669, 8439, 5674, 791, 4681, 4429, 2102, 6901, 9966, 5483, 7197, 9992, 42, 7253, 5283, 7518, 2469, 4342, 1252, 3083, 3089, 7015, 8957, 4475, 2964, 8628, 5831, 4902, 2947, 5909, 6905, 6518, 4254, 3239, 9871, 6456, 102, 9631, 7545, 50, 2346, 2239, 2596, 2829, 742, 7587, 9415, 2169, 137, 7399, 7450, 7480, 756, 3419, 1462, 6693, 3989, 5147, 8496, 8009, 5413, 57, 4703, 5281]\n",
    "\n",
    "cont = Counter(a)\n",
    "a[min([[i for i, x in enumerate(a) if x == list(cont.keys())[idx]][1] for idx in [i for i in range(len(cont)) if list(cont.values())[i] >1]])]"
   ]
  },
  {
   "cell_type": "markdown",
   "id": "3a7f053e",
   "metadata": {},
   "source": [
    "### firstNotRepeatingCharacter\n"
   ]
  },
  {
   "cell_type": "code",
   "execution_count": 44,
   "id": "48132128",
   "metadata": {},
   "outputs": [],
   "source": [
    "from collections import Counter\n",
    "import numpy as np\n",
    "\n",
    "def solution(s):\n",
    "    if 1 not in list(Counter(s).values()):\n",
    "        return \"_\"\n",
    "    else:\n",
    "        return list(Counter(s).keys())[min([i for i in range(len(Counter(s))) if list(Counter(s).values())[i] == 1])]\n",
    "    "
   ]
  },
  {
   "cell_type": "code",
   "execution_count": 45,
   "id": "b8af5982",
   "metadata": {},
   "outputs": [
    {
     "data": {
      "text/plain": [
       "'c'"
      ]
     },
     "execution_count": 45,
     "metadata": {},
     "output_type": "execute_result"
    }
   ],
   "source": [
    "solution(\"abacabad\")"
   ]
  },
  {
   "cell_type": "markdown",
   "id": "0b82795c",
   "metadata": {},
   "source": [
    "### rotateImage"
   ]
  },
  {
   "cell_type": "code",
   "execution_count": 76,
   "id": "1d26fba1",
   "metadata": {},
   "outputs": [
    {
     "data": {
      "text/plain": [
       "array([[7, 4, 1],\n",
       "       [8, 5, 2],\n",
       "       [9, 6, 3]])"
      ]
     },
     "execution_count": 76,
     "metadata": {},
     "output_type": "execute_result"
    }
   ],
   "source": [
    "def solution(a):\n",
    "    return np.rot90(np.array(a),3)\n",
    "\n",
    "a = [[1, 2, 3],\n",
    "     [4, 5, 6],\n",
    "     [7, 8, 9]]\n",
    "solution(a)"
   ]
  },
  {
   "cell_type": "markdown",
   "id": "de3f9ba2",
   "metadata": {},
   "source": [
    "### sudoku2\n"
   ]
  },
  {
   "cell_type": "code",
   "execution_count": 292,
   "id": "6c16fbc3",
   "metadata": {},
   "outputs": [],
   "source": [
    "def solution(grid):\n",
    "    for i in range(int(np.array(grid).shape[0]/3)):\n",
    "        for j in range(int(np.array(grid).shape[0]/3)):\n",
    "            if [i for i in list(Counter(np.array(grid)[parts[i][0]:parts[i][1], parts[j][0]:parts[j][1]][np.array(grid)[parts[i][0]:parts[i][1], parts[j][0]:parts[j][1]] != \".\"]).values()) if i > 1] != []:\n",
    "                return False\n",
    "    for i in range(np.array(grid).shape[0] ):   \n",
    "        if [i for i in list(Counter(np.array(grid)[:,i][np.array(grid)[:,i] != \".\"]).values()) if i > 1] != []:\n",
    "                return False\n",
    "        elif [i for i in list(Counter(np.array(grid)[i][np.array(grid)[i] != \".\"]).values()) if i > 1] != []:\n",
    "                return False\n",
    "    else:\n",
    "        return True\n"
   ]
  },
  {
   "cell_type": "code",
   "execution_count": 302,
   "id": "73d98631",
   "metadata": {},
   "outputs": [
    {
     "data": {
      "text/plain": [
       "False"
      ]
     },
     "execution_count": 302,
     "metadata": {},
     "output_type": "execute_result"
    }
   ],
   "source": [
    "grid = [['.', '.', '.', '.', '2', '.', '.', '9', '.'],\n",
    "        ['.', '.', '.', '.', '6', '.', '.', '.', '.'],\n",
    "        ['7', '1', '.', '.', '7', '5', '.', '.', '.'],\n",
    "        ['.', '7', '.', '.', '.', '.', '.', '.', '.'],\n",
    "        ['.', '.', '.', '.', '8', '3', '.', '.', '.'],\n",
    "        ['.', '.', '8', '.', '.', '7', '.', '6', '.'],\n",
    "        ['.', '.', '.', '.', '.', '2', '.', '.', '.'],\n",
    "        ['.', '1', '.', '2', '.', '.', '.', '.', '.'],\n",
    "        ['.', '2', '.', '.', '3', '.', '.', '.', '.']]\n",
    "\n",
    "solution(grid)"
   ]
  },
  {
   "cell_type": "markdown",
   "id": "d9c10cc2",
   "metadata": {},
   "source": [
    "### isCryptSolution\n"
   ]
  },
  {
   "cell_type": "code",
   "execution_count": 383,
   "id": "a894fdc8",
   "metadata": {},
   "outputs": [],
   "source": [
    "crypt = [\"SEND\", \"MORE\", \"MONEY\"]\n",
    "solution = [['O', '0'],\n",
    "            ['M', '1'],\n",
    "            ['Y', '2'],\n",
    "            ['E', '5'],\n",
    "            ['N', '6'],\n",
    "            ['D', '7'],\n",
    "            ['R', '8'],\n",
    "            ['S', '9']]"
   ]
  },
  {
   "cell_type": "code",
   "execution_count": 384,
   "id": "0f65dc07",
   "metadata": {},
   "outputs": [],
   "source": [
    "def solution_def(crypt, solution):\n",
    "    solution = np.array(solution)\n",
    "    decoded = []\n",
    "    for word in crypt:\n",
    "        for i in range(solution.shape[0]):\n",
    "            word = word.replace(solution[i][0], solution[i][1])\n",
    "        decoded.append(word)\n",
    "    return int(decoded[0]) + int(decoded[1]) == int(decoded[2]) and len(decoded[0]) == len(str(int(decoded[0]))) and len(decoded[1]) == len(str(int(decoded[1]))) and  len(decoded[2]) == len(str(int(decoded[2])))\n"
   ]
  },
  {
   "cell_type": "code",
   "execution_count": 385,
   "id": "57b51a3a",
   "metadata": {},
   "outputs": [
    {
     "data": {
      "text/plain": [
       "True"
      ]
     },
     "execution_count": 385,
     "metadata": {},
     "output_type": "execute_result"
    }
   ],
   "source": [
    "solution_def(crypt, solution)"
   ]
  },
  {
   "cell_type": "markdown",
   "id": "fe3c8e48",
   "metadata": {},
   "source": [
    "# Linked Lists"
   ]
  },
  {
   "cell_type": "markdown",
   "id": "664cd30f",
   "metadata": {},
   "source": [
    "### removeKFromList"
   ]
  },
  {
   "cell_type": "code",
   "execution_count": 22,
   "id": "f95f3fa7",
   "metadata": {},
   "outputs": [],
   "source": [
    "# Singly-linked lists are already defined with this interface:\n",
    "#class ListNode(object):\n",
    " #  def __init__(self, x):\n",
    "  #   self.value = x\n",
    "   #  self.next = None\n",
    "    \n",
    "def solution(l, k):\n",
    "    head = ListNode(None)\n",
    "    head.next = l\n",
    "    current = head\n",
    "    \n",
    "    while current:\n",
    "        while (current.next) and (current.next.value ==k):\n",
    "            current.next = current.next.next\n",
    "        current = current.next\n",
    "   \n",
    "    return head.next\n",
    "    "
   ]
  },
  {
   "cell_type": "markdown",
   "id": "2da66f96",
   "metadata": {},
   "source": [
    "### isListPalindrome"
   ]
  },
  {
   "cell_type": "code",
   "execution_count": 28,
   "id": "bda19441",
   "metadata": {},
   "outputs": [],
   "source": [
    "# Singly-linked lists are already defined with this interface:\n",
    "# class ListNode(object):\n",
    "#   def __init__(self, x):\n",
    "#     self.value = x\n",
    "#     self.next = None\n",
    "#\n",
    "def solution(l):\n",
    "    head = ListNode(None)\n",
    "    head.next = l\n",
    "    \n",
    "    if head is None:\n",
    "        return True\n",
    "    N = 0\n",
    "    current = head\n",
    "    \n",
    "    while current:\n",
    "        N+=1\n",
    "        current = current.next\n",
    "        \n",
    "    mid = N//2\n",
    "    i = 0\n",
    "    \n",
    "    def reverse(head):\n",
    "        ans = None\n",
    "        while head:\n",
    "            nxt = head.next\n",
    "            head.next = ans\n",
    "            ans = head\n",
    "            head = nxt\n",
    "        return ans\n",
    "    \n",
    "    \n",
    "    first = second = head\n",
    "    while i < mid:\n",
    "        second = second.next\n",
    "        i+=1\n",
    "    second = reverse(second)\n",
    "    \n",
    "    while first and second:\n",
    "        if first.value != second.value:\n",
    "            return False\n",
    "        else: \n",
    "            first = first.next\n",
    "            second = second.next\n",
    "    \n",
    "    return True"
   ]
  },
  {
   "cell_type": "code",
   "execution_count": null,
   "id": "83973e3a",
   "metadata": {},
   "outputs": [],
   "source": []
  }
 ],
 "metadata": {
  "kernelspec": {
   "display_name": "Python 3 (ipykernel)",
   "language": "python",
   "name": "python3"
  },
  "language_info": {
   "codemirror_mode": {
    "name": "ipython",
    "version": 3
   },
   "file_extension": ".py",
   "mimetype": "text/x-python",
   "name": "python",
   "nbconvert_exporter": "python",
   "pygments_lexer": "ipython3",
   "version": "3.9.10"
  }
 },
 "nbformat": 4,
 "nbformat_minor": 5
}
