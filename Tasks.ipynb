{
 "cells": [
  {
   "cell_type": "markdown",
   "id": "c767ac33",
   "metadata": {},
   "source": [
    "## 2. CenturyFromYear"
   ]
  },
  {
   "cell_type": "code",
   "execution_count": 44,
   "id": "e361584f",
   "metadata": {},
   "outputs": [
    {
     "data": {
      "text/plain": [
       "2"
      ]
     },
     "execution_count": 44,
     "metadata": {},
     "output_type": "execute_result"
    }
   ],
   "source": [
    "def solution(year):\n",
    "    padded_year = str(year).zfill(4)\n",
    "    if int(padded_year[2:]) == 0:\n",
    "        return int(padded_year[:2])\n",
    "    else:\n",
    "        return int(padded_year[:2]) + 1\n",
    "solution(200)"
   ]
  },
  {
   "cell_type": "markdown",
   "id": "19add0c7",
   "metadata": {},
   "source": [
    "## 3. Palindrome"
   ]
  },
  {
   "cell_type": "code",
   "execution_count": 43,
   "id": "5b730a5b",
   "metadata": {},
   "outputs": [
    {
     "data": {
      "text/plain": [
       "False"
      ]
     },
     "execution_count": 43,
     "metadata": {},
     "output_type": "execute_result"
    }
   ],
   "source": [
    "def solution(inputString):\n",
    "    return inputString == inputString[::-1]\n",
    "\n",
    "solution(\"aababa\")"
   ]
  },
  {
   "cell_type": "markdown",
   "id": "971d8895",
   "metadata": {},
   "source": [
    "## 4. AdjacentElementsProduct\n"
   ]
  },
  {
   "cell_type": "code",
   "execution_count": 62,
   "id": "8b7a017c",
   "metadata": {},
   "outputs": [
    {
     "data": {
      "text/plain": [
       "21"
      ]
     },
     "execution_count": 62,
     "metadata": {},
     "output_type": "execute_result"
    }
   ],
   "source": [
    "import numpy as np\n",
    "def solution(inputArray):\n",
    "    return max([np.prod(li) for li in [inputArray[i:i+2] for i in range(len(inputArray)-1)]])\n",
    "\n",
    "solution([3, 6, -2, -5, 7, 3])"
   ]
  },
  {
   "cell_type": "markdown",
   "id": "bb6d8747",
   "metadata": {},
   "source": [
    "## 5.ShapeArea"
   ]
  }
 ],
 "metadata": {
  "kernelspec": {
   "display_name": "Python 3 (ipykernel)",
   "language": "python",
   "name": "python3"
  },
  "language_info": {
   "codemirror_mode": {
    "name": "ipython",
    "version": 3
   },
   "file_extension": ".py",
   "mimetype": "text/x-python",
   "name": "python",
   "nbconvert_exporter": "python",
   "pygments_lexer": "ipython3",
   "version": "3.9.10"
  }
 },
 "nbformat": 4,
 "nbformat_minor": 5
}
