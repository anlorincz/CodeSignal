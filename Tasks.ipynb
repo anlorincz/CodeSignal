{
 "cells": [
  {
   "cell_type": "markdown",
   "id": "c767ac33",
   "metadata": {},
   "source": [
    "## 2. CenturyFromYear"
   ]
  },
  {
   "cell_type": "code",
   "execution_count": 13,
   "id": "e361584f",
   "metadata": {},
   "outputs": [],
   "source": [
    "def solution(year):\n",
    "    padded_year = str(year).zfill(4)\n",
    "    if int(padded_year[2:]) == 0:\n",
    "        return int(padded_year[:2])\n",
    "    else:\n",
    "        return int(padded_year[:2]) + 1"
   ]
  },
  {
   "cell_type": "code",
   "execution_count": 14,
   "id": "d34eb3eb",
   "metadata": {},
   "outputs": [
    {
     "data": {
      "text/plain": [
       "2"
      ]
     },
     "execution_count": 14,
     "metadata": {},
     "output_type": "execute_result"
    }
   ],
   "source": [
    "solution(200)"
   ]
  },
  {
   "cell_type": "markdown",
   "id": "19add0c7",
   "metadata": {},
   "source": [
    "## 3. Palindrome"
   ]
  },
  {
   "cell_type": "code",
   "execution_count": 11,
   "id": "5b730a5b",
   "metadata": {},
   "outputs": [],
   "source": [
    "def solution(inputString):\n",
    "    return inputString == inputString[::-1]"
   ]
  },
  {
   "cell_type": "code",
   "execution_count": 12,
   "id": "935edb11",
   "metadata": {},
   "outputs": [
    {
     "data": {
      "text/plain": [
       "False"
      ]
     },
     "execution_count": 12,
     "metadata": {},
     "output_type": "execute_result"
    }
   ],
   "source": [
    "solution(\"aababa\")"
   ]
  },
  {
   "cell_type": "markdown",
   "id": "971d8895",
   "metadata": {},
   "source": [
    "## 4. AdjacentElementsProduct\n"
   ]
  },
  {
   "cell_type": "code",
   "execution_count": 9,
   "id": "8b7a017c",
   "metadata": {},
   "outputs": [],
   "source": [
    "import numpy as np\n",
    "def solution(inputArray):\n",
    "    return max([np.prod(li) for li in [inputArray[i:i+2] for i in range(len(inputArray)-1)]])"
   ]
  },
  {
   "cell_type": "code",
   "execution_count": 10,
   "id": "024a998a",
   "metadata": {},
   "outputs": [
    {
     "data": {
      "text/plain": [
       "21"
      ]
     },
     "execution_count": 10,
     "metadata": {},
     "output_type": "execute_result"
    }
   ],
   "source": [
    "solution([3, 6, -2, -5, 7, 3])"
   ]
  },
  {
   "cell_type": "markdown",
   "id": "bb6d8747",
   "metadata": {},
   "source": [
    "## 5.ShapeArea"
   ]
  },
  {
   "cell_type": "code",
   "execution_count": 3,
   "id": "439e0b94",
   "metadata": {},
   "outputs": [],
   "source": [
    "def solution(n):\n",
    "    return n*n + (n-1)*(n-1)"
   ]
  },
  {
   "cell_type": "code",
   "execution_count": 8,
   "id": "06887bf4",
   "metadata": {},
   "outputs": [
    {
     "data": {
      "text/plain": [
       "25"
      ]
     },
     "execution_count": 8,
     "metadata": {},
     "output_type": "execute_result"
    }
   ],
   "source": [
    "solution(4)"
   ]
  },
  {
   "cell_type": "markdown",
   "id": "4ce96c0d",
   "metadata": {},
   "source": [
    "## 6. Make Array Consecutive 2"
   ]
  },
  {
   "cell_type": "code",
   "execution_count": 28,
   "id": "99f6e786",
   "metadata": {},
   "outputs": [],
   "source": [
    "def solution(statues):\n",
    "    return len(set(list(range(min(statues), max(statues)+1))) - set(statues))"
   ]
  },
  {
   "cell_type": "code",
   "execution_count": 30,
   "id": "140cfc44",
   "metadata": {},
   "outputs": [
    {
     "data": {
      "text/plain": [
       "3"
      ]
     },
     "execution_count": 30,
     "metadata": {},
     "output_type": "execute_result"
    }
   ],
   "source": [
    "solution([6, 2, 3, 8])"
   ]
  },
  {
   "cell_type": "markdown",
   "id": "14006b94",
   "metadata": {},
   "source": [
    "## 7. almostIncreasingSequence"
   ]
  },
  {
   "cell_type": "code",
   "execution_count": 228,
   "id": "427fbd69",
   "metadata": {},
   "outputs": [],
   "source": [
    "sequence = [1, 1, 2, 1]"
   ]
  },
  {
   "cell_type": "code",
   "execution_count": 231,
   "id": "54e0689b",
   "metadata": {},
   "outputs": [
    {
     "name": "stdout",
     "output_type": "stream",
     "text": [
      "CPU times: user 11 µs, sys: 1e+03 ns, total: 12 µs\n",
      "Wall time: 23.1 µs\n"
     ]
    }
   ],
   "source": [
    "%%time\n",
    "def solution(sequence):\n",
    "        new_sequences =  np.unique(np.array([(sequence[:i] + sequence[i+1:]) for i in range(len(sequence))] + [sequence])))\n",
    "        for new_sequence in new_sequences:\n",
    "            if (False in [new_sequence[e] > new_sequence[e-1] for e in range(1,len(new_sequence))]) == False:\n",
    "                return True\n",
    "            \n",
    "        else:\n",
    "            return False"
   ]
  },
  {
   "cell_type": "code",
   "execution_count": 233,
   "id": "1cab29bd",
   "metadata": {},
   "outputs": [
    {
     "name": "stdout",
     "output_type": "stream",
     "text": [
      "CPU times: user 262 µs, sys: 18 µs, total: 280 µs\n",
      "Wall time: 270 µs\n"
     ]
    },
    {
     "name": "stderr",
     "output_type": "stream",
     "text": [
      "<timed exec>:2: VisibleDeprecationWarning: Creating an ndarray from ragged nested sequences (which is a list-or-tuple of lists-or-tuples-or ndarrays with different lengths or shapes) is deprecated. If you meant to do this, you must specify 'dtype=object' when creating the ndarray.\n"
     ]
    },
    {
     "data": {
      "text/plain": [
       "False"
      ]
     },
     "execution_count": 233,
     "metadata": {},
     "output_type": "execute_result"
    }
   ],
   "source": [
    "%%time\n",
    "solution([1, 1, 2, 1])"
   ]
  },
  {
   "cell_type": "code",
   "execution_count": null,
   "id": "943f9f41",
   "metadata": {},
   "outputs": [],
   "source": []
  }
 ],
 "metadata": {
  "kernelspec": {
   "display_name": "Python 3 (ipykernel)",
   "language": "python",
   "name": "python3"
  },
  "language_info": {
   "codemirror_mode": {
    "name": "ipython",
    "version": 3
   },
   "file_extension": ".py",
   "mimetype": "text/x-python",
   "name": "python",
   "nbconvert_exporter": "python",
   "pygments_lexer": "ipython3",
   "version": "3.9.10"
  }
 },
 "nbformat": 4,
 "nbformat_minor": 5
}
