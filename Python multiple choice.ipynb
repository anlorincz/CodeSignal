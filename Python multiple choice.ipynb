{
 "cells": [
  {
   "cell_type": "markdown",
   "id": "f057a918",
   "metadata": {},
   "source": [
    "# 1. Collections Truthness"
   ]
  },
  {
   "cell_type": "code",
   "execution_count": 2,
   "id": "8efa2de7",
   "metadata": {},
   "outputs": [],
   "source": [
    "xs = [()]\n",
    "res = [False] * 2\n",
    "if xs:\n",
    "    res[0] = True\n",
    "if xs[0]:\n",
    "    res[1] = True"
   ]
  },
  {
   "cell_type": "code",
   "execution_count": 3,
   "id": "5c26d612",
   "metadata": {},
   "outputs": [
    {
     "data": {
      "text/plain": [
       "[True, False]"
      ]
     },
     "execution_count": 3,
     "metadata": {},
     "output_type": "execute_result"
    }
   ],
   "source": [
    "res"
   ]
  },
  {
   "cell_type": "markdown",
   "id": "5674390a",
   "metadata": {},
   "source": [
    "# 2. Efficient Comparison"
   ]
  },
  {
   "cell_type": "code",
   "execution_count": 8,
   "id": "85c0a1bd",
   "metadata": {},
   "outputs": [],
   "source": [
    "x = 2\n",
    "y = 3\n",
    "L = 1\n",
    "R = 100"
   ]
  },
  {
   "cell_type": "markdown",
   "id": "f5cd841e",
   "metadata": {},
   "source": [
    "Most optimal solution: L < x ** y <= R: "
   ]
  },
  {
   "cell_type": "code",
   "execution_count": 48,
   "id": "2162e1aa",
   "metadata": {},
   "outputs": [
    {
     "name": "stdout",
     "output_type": "stream",
     "text": [
      "True\n",
      "CPU times: user 66 µs, sys: 11 µs, total: 77 µs\n",
      "Wall time: 80.8 µs\n"
     ]
    }
   ],
   "source": [
    "%%time \n",
    "if L < x ** y <= R:\n",
    "    print(True)\n",
    "#MOST OPTIMAL SOLUTION"
   ]
  },
  {
   "cell_type": "code",
   "execution_count": 49,
   "id": "ed1c0dd6",
   "metadata": {
    "scrolled": true
   },
   "outputs": [
    {
     "name": "stdout",
     "output_type": "stream",
     "text": [
      "True\n",
      "CPU times: user 56 µs, sys: 31 µs, total: 87 µs\n",
      "Wall time: 78.2 µs\n"
     ]
    }
   ],
   "source": [
    "%%time\n",
    "if x ** y > L and x ** y:\n",
    "    print(True)"
   ]
  },
  {
   "cell_type": "code",
   "execution_count": 50,
   "id": "92699f6e",
   "metadata": {},
   "outputs": [
    {
     "name": "stdout",
     "output_type": "stream",
     "text": [
      "True\n",
      "CPU times: user 46 µs, sys: 13 µs, total: 59 µs\n",
      "Wall time: 54.1 µs\n"
     ]
    }
   ],
   "source": [
    "%%time\n",
    "if x ** y in range(L + 1, R + 1):\n",
    "     print(True)"
   ]
  },
  {
   "cell_type": "markdown",
   "id": "361f6a75",
   "metadata": {},
   "source": [
    "# Special Conditional\n",
    "Given two boolean variables a and\n",
    "b , one of the following statements\n",
    "works differently than the others.\n",
    "Which one is it?"
   ]
  },
  {
   "cell_type": "code",
   "execution_count": 67,
   "id": "c862bad1",
   "metadata": {},
   "outputs": [
    {
     "ename": "SyntaxError",
     "evalue": "invalid syntax (1058563709.py, line 6)",
     "output_type": "error",
     "traceback": [
      "\u001b[0;36m  Input \u001b[0;32mIn [67]\u001b[0;36m\u001b[0m\n\u001b[0;31m    print(a == not b) #THIS ONE IS INCORRECT\u001b[0m\n\u001b[0m               ^\u001b[0m\n\u001b[0;31mSyntaxError\u001b[0m\u001b[0;31m:\u001b[0m invalid syntax\n"
     ]
    }
   ],
   "source": [
    "a = True\n",
    "b = False\n",
    "print(not (a == b))\n",
    "print(not a == b)\n",
    "print(a == (not b))\n",
    "print(a == not b) #THIS ONE IS INCORRECT"
   ]
  },
  {
   "cell_type": "markdown",
   "id": "934c75d6",
   "metadata": {},
   "source": [
    "# Language Differences\n",
    "Your friend is an experienced coder\n",
    "who just started learning Python.\n",
    "Since she is already proficient in Java\n",
    "and C++, she decided to write all of\n",
    "her snippets in all three languages, in\n",
    "order to ensure the Python code was\n",
    "working as expected. Here's the very\n",
    "first function your friend wrote in\n",
    "Python and Java (the C++ version is\n",
    "the same as Java one):"
   ]
  },
  {
   "cell_type": "code",
   "execution_count": 72,
   "id": "17cd52c2",
   "metadata": {},
   "outputs": [
    {
     "name": "stdout",
     "output_type": "stream",
     "text": [
      "3.3333333333333335\n",
      "3\n"
     ]
    }
   ],
   "source": [
    "x = -10\n",
    "y = -3\n",
    "print(x/y)\n",
    "print(x//y)"
   ]
  },
  {
   "cell_type": "code",
   "execution_count": 73,
   "id": "dfda8c0e",
   "metadata": {},
   "outputs": [
    {
     "name": "stdout",
     "output_type": "stream",
     "text": [
      "-3.75\n",
      "-4\n"
     ]
    }
   ],
   "source": [
    "#THIS ONE\n",
    "x = 15\n",
    "y = -4\n",
    "print(x/y)\n",
    "print(x//y)"
   ]
  },
  {
   "cell_type": "code",
   "execution_count": 75,
   "id": "859c19ea",
   "metadata": {},
   "outputs": [
    {
     "name": "stdout",
     "output_type": "stream",
     "text": [
      "1.3076923076923077\n",
      "1\n"
     ]
    }
   ],
   "source": [
    "x = 17\n",
    "y = 13\n",
    "print(x/y)\n",
    "print(x//y)"
   ]
  },
  {
   "cell_type": "code",
   "execution_count": 76,
   "id": "79264c95",
   "metadata": {},
   "outputs": [
    {
     "name": "stdout",
     "output_type": "stream",
     "text": [
      "0.5\n",
      "0\n"
     ]
    }
   ],
   "source": [
    "x = 5\n",
    "y = 10\n",
    "print(x/y)\n",
    "print(x//y)"
   ]
  },
  {
   "cell_type": "code",
   "execution_count": 77,
   "id": "0bd29607",
   "metadata": {},
   "outputs": [
    {
     "name": "stdout",
     "output_type": "stream",
     "text": [
      "-4.0\n",
      "-4\n"
     ]
    }
   ],
   "source": [
    "x = -8\n",
    "y = 2\n",
    "print(x/y)\n",
    "print(x//y)"
   ]
  },
  {
   "cell_type": "markdown",
   "id": "7d5849d0",
   "metadata": {},
   "source": [
    "# Count Bits"
   ]
  },
  {
   "cell_type": "code",
   "execution_count": 104,
   "id": "e4713541",
   "metadata": {},
   "outputs": [],
   "source": [
    "def solution(n):\n",
    "    return n.bit_length()"
   ]
  },
  {
   "cell_type": "markdown",
   "id": "5198730d",
   "metadata": {},
   "source": [
    "# Modulus\n",
    "write your own solution operator as a function. Your task is to implement a function that, given a number n, returns -1 if this number is not an integer and n % 2 otherwise. It is guaranteed that if the number represents an integer, it will be written without a decimal point.\n"
   ]
  },
  {
   "cell_type": "code",
   "execution_count": 103,
   "id": "7ee63fd2",
   "metadata": {},
   "outputs": [],
   "source": [
    "def solution(n):\n",
    "    if isinstance(n, int):\n",
    "        return n % 2\n",
    "    else:\n",
    "        return -1"
   ]
  },
  {
   "cell_type": "markdown",
   "id": "af12be78",
   "metadata": {},
   "source": [
    "# Simple Sort"
   ]
  },
  {
   "cell_type": "code",
   "execution_count": 147,
   "id": "de682301",
   "metadata": {},
   "outputs": [],
   "source": [
    "def solution(arr):\n",
    "\n",
    "    n = len(arr)\n",
    "\n",
    "    for i in range(n):\n",
    "        j = 0\n",
    "        stop = n - i\n",
    "        while j < stop - 1:\n",
    "            if arr[j] > arr[j + 1]:\n",
    "                arr[j:j+2]  = list(reversed(arr[j:j+2])) #THIS\n",
    "            j += 1\n",
    "    return arr\n"
   ]
  },
  {
   "cell_type": "markdown",
   "id": "5023b1b6",
   "metadata": {},
   "source": [
    "# Base Conversion"
   ]
  },
  {
   "cell_type": "code",
   "execution_count": 173,
   "id": "caf0ee65",
   "metadata": {},
   "outputs": [],
   "source": [
    "def solution(n, x):\n",
    "    return numpy.base_repr(int(n,x), base=16).lower()"
   ]
  },
  {
   "cell_type": "code",
   "execution_count": null,
   "id": "e4a6b176",
   "metadata": {},
   "outputs": [],
   "source": []
  },
  {
   "cell_type": "code",
   "execution_count": null,
   "id": "781b4731",
   "metadata": {},
   "outputs": [],
   "source": []
  }
 ],
 "metadata": {
  "kernelspec": {
   "display_name": "Python 3 (ipykernel)",
   "language": "python",
   "name": "python3"
  },
  "language_info": {
   "codemirror_mode": {
    "name": "ipython",
    "version": 3
   },
   "file_extension": ".py",
   "mimetype": "text/x-python",
   "name": "python",
   "nbconvert_exporter": "python",
   "pygments_lexer": "ipython3",
   "version": "3.9.10"
  }
 },
 "nbformat": 4,
 "nbformat_minor": 5
}
